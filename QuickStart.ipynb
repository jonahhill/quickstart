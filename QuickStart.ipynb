{
 "cells": [
  {
   "cell_type": "markdown",
   "metadata": {},
   "source": [
    "<img alt=\"QuantRocket logo\" src=\"https://www.quantrocket.com/assets/img/notebook-header-logo.png\">"
   ]
  },
  {
   "cell_type": "markdown",
   "metadata": {},
   "source": [
    "# Welcome to QuantRocket! \n",
    "\n",
    "**Start with this 5-minute interactive tour for new users:**\n",
    "\n",
    "1. [Python API first steps](quickstart/Python-Intro.ipynb) - Intro to QuantRocket's Python API\n",
    "2. [CLI first steps](quickstart/CLI-Intro.ipynb) - Get to know the command line interface\n",
    "3. [Logging first steps](quickstart/Logging-Intro.ipynb) - Learn how logging works\n",
    "4. [Clone sample code](quickstart/Clone-Intro.ipynb) - Get some code into your deployment\n",
    "\n",
    "**Activate the software:**\n",
    "\n",
    "* [Enter your license key](quickstart/Activate.ipynb) - Use the Python API to enter your license key\n",
    "* [Connect to IB](quickstart/Connect-IB.ipynb) - Use the CLI to enter your IB credentials and connect to IB (*QuantRocket subscription required*)\n",
    "\n",
    "**Go deeper with a full tutorial:**\n",
    "\n",
    "Visit the [Codeload library](https://www.quantrocket.com/code/) to find step-by-step interactive tutorials that you can clone into your deployment. \n"
   ]
  }
 ],
 "metadata": {
  "kernelspec": {
   "display_name": "Python 3",
   "language": "python",
   "name": "python3"
  },
  "language_info": {
   "codemirror_mode": {
    "name": "ipython",
    "version": 3
   },
   "file_extension": ".py",
   "mimetype": "text/x-python",
   "name": "python",
   "nbconvert_exporter": "python",
   "pygments_lexer": "ipython3",
   "version": "3.6.6"
  }
 },
 "nbformat": 4,
 "nbformat_minor": 2
}
